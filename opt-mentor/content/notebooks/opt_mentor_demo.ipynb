{
 "cells": [
  {
   "cell_type": "markdown",
   "metadata": {},
   "source": [
    "# OPT_Mentor Demo\n",
    "This is a demo of OPT_Mentor running in JupyterLite"
   ]
  },
  {
   "cell_type": "code",
   "execution_count": null,
   "metadata": {},
   "outputs": [],
   "source": [
    "# First make sure IPython is available\n",
    "import IPython\n",
    "print(f'IPython version: {IPython.__version__}')\n",
    "\n",
    "# Then load the magic command\n",
    "%load_ext divewidgets"
   ]
  },
  {
   "cell_type": "code",
   "execution_count": null,
   "metadata": {},
   "outputs": [],
   "source": [
    "# Use the magic command with options\n",
    "%%opm -w 1100 -h 700\n",
    "print('Hello from OPT_Mentor!')"
   ]
  },
  {
   "cell_type": "code",
   "execution_count": null,
   "metadata": {},
   "outputs": [],
   "source": [
    "# Example with run option\n",
    "%%opm -r\n",
    "x = 10\n",
    "y = 20\n",
    "print(f'Sum is: {x + y}')"
   ]
  },
  {
   "cell_type": "code",
   "execution_count": null,
   "metadata": {},
   "outputs": [],
   "source": [
    "# Current Python File Path\n",
    "import sys\n",
    "print(sys.executable)"
   ]
  },
   {
   "cell_type": "code",
   "execution_count": null,
   "metadata": {},
   "outputs": [],
   "source": [
    "# divewidgets extension file path\n",
    "import sys\n",
    "!{sys.executable} -m pip show divewidgets"
   ]
  }
 ],
 "metadata": {
  "kernelspec": {
   "display_name": "Python 3 (ipykernel)",
   "language": "python",
   "name": "python3"
  }
 },
 "nbformat": 4,
 "nbformat_minor": 4
}
